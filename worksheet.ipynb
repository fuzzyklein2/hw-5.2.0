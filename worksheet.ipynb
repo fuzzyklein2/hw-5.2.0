{
 "cells": [
  {
   "cell_type": "code",
   "execution_count": 1,
   "id": "591468ff-64fd-4d79-bd6c-30036c160126",
   "metadata": {},
   "outputs": [],
   "source": [
    "import os\n",
    "os.environ['CMD_LINE'] = \"-v -l log/lab.log\"\n",
    "os.environ['logfile'] = 'log/lab.log'\n",
    "os.environ['config'] = 'etc/config.ini'\n",
    "os.environ['input'] = 'input.txt'\n",
    "os.environ['output'] = 'output.txt'"
   ]
  },
  {
   "cell_type": "code",
   "execution_count": 9,
   "id": "f3d27a67-247d-48a3-8a8c-d81c6f12502b",
   "metadata": {},
   "outputs": [],
   "source": [
    "from py.tools import *"
   ]
  },
  {
   "cell_type": "code",
   "execution_count": 2,
   "id": "ceddac30-234e-45ee-9e36-51d0dea64c16",
   "metadata": {},
   "outputs": [
    {
     "name": "stderr",
     "output_type": "stream",
     "text": [
      "2025-02-14 03:13:53,706 - INFO - Logging configuration complete.\n",
      "2025-02-14 03:13:53,707 - WARNING - /home/fuzzy/Documents/GitHub/hw-5.1.0/hw/__init__.py:146: UserWarning: This program is still in development. Beware of bugs!\n",
      "  warnings.warn(\"This program is still in development. Beware of bugs!\")\n",
      "\n",
      "2025-02-14 03:13:53,708 - INFO - CONFIG=PosixPath('/home/fuzzy/Documents/GitHub/hw-5.1.0/etc/config.ini')\n",
      "2025-02-14 03:13:53,710 - INFO - INPUT=''\n",
      "2025-02-14 03:13:53,711 - INFO - FOLLOW=False\n",
      "RECURSIVE=False\n",
      "PROCESS_ALL=False\n"
     ]
    },
    {
     "name": "stdout",
     "output_type": "stream",
     "text": [
      "Initializing hw\n"
     ]
    }
   ],
   "source": [
    "from hw import *"
   ]
  },
  {
   "cell_type": "code",
   "execution_count": 3,
   "id": "74054a93-4b63-408a-8c22-0a9b8963ee50",
   "metadata": {
    "editable": true,
    "slideshow": {
     "slide_type": ""
    },
    "tags": []
   },
   "outputs": [],
   "source": [
    "from hw.filter import Filter"
   ]
  },
  {
   "cell_type": "code",
   "execution_count": 7,
   "id": "7141bd6f-d4b5-46d5-bfcf-72ae93965618",
   "metadata": {},
   "outputs": [],
   "source": [
    "ARGS.args = [\"output.txt\"]"
   ]
  },
  {
   "cell_type": "code",
   "execution_count": 5,
   "id": "0fded89d-6657-47d2-a7ce-e41a0eaa2a04",
   "metadata": {},
   "outputs": [
    {
     "name": "stderr",
     "output_type": "stream",
     "text": [
      "2025-02-14 03:14:18,365 - INFO - Initializing Filter class...\n"
     ]
    }
   ],
   "source": [
    "f = Filter()"
   ]
  },
  {
   "cell_type": "code",
   "execution_count": 8,
   "id": "325f4d2f-db17-4ebd-a8ad-5ba4b6aa4710",
   "metadata": {},
   "outputs": [
    {
     "name": "stdout",
     "output_type": "stream",
     "text": [
      "output.txt\n"
     ]
    }
   ],
   "source": [
    "f.process_files()"
   ]
  },
  {
   "cell_type": "code",
   "execution_count": null,
   "id": "884bd778-cee9-44ac-a7be-bba25a3bb9e8",
   "metadata": {},
   "outputs": [],
   "source": [
    "public(Path)"
   ]
  },
  {
   "cell_type": "code",
   "execution_count": null,
   "id": "22b6c3ba-6419-47c7-b736-78bb54a4a802",
   "metadata": {},
   "outputs": [],
   "source": [
    "public(warnings)"
   ]
  },
  {
   "cell_type": "code",
   "execution_count": null,
   "id": "e2c063b1-fac8-454f-a8ff-ab1ad1f8bf06",
   "metadata": {},
   "outputs": [],
   "source": [
    "dir(object)"
   ]
  },
  {
   "cell_type": "code",
   "execution_count": null,
   "id": "c0d226c2-58cc-45a5-ad99-3e250e946bd0",
   "metadata": {},
   "outputs": [],
   "source": []
  }
 ],
 "metadata": {
  "kernelspec": {
   "display_name": "Python 3.13",
   "language": "python",
   "name": "python-3.13"
  },
  "language_info": {
   "codemirror_mode": {
    "name": "ipython",
    "version": 3
   },
   "file_extension": ".py",
   "mimetype": "text/x-python",
   "name": "python",
   "nbconvert_exporter": "python",
   "pygments_lexer": "ipython3",
   "version": "3.13.2"
  }
 },
 "nbformat": 4,
 "nbformat_minor": 5
}
