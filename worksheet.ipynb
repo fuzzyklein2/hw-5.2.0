{
 "cells": [
  {
   "cell_type": "code",
   "execution_count": 1,
   "id": "591468ff-64fd-4d79-bd6c-30036c160126",
   "metadata": {},
   "outputs": [],
   "source": [
    "import os\n",
    "os.environ['CMD_LINE'] = \"-v -l log/lab.log\"\n",
    "os.environ['logfile'] = 'log/lab.log'\n",
    "os.environ['config'] = 'etc/config.ini'\n",
    "os.environ['input'] = 'input.txt'\n",
    "os.environ['output'] = 'output.txt'"
   ]
  },
  {
   "cell_type": "code",
   "execution_count": 2,
   "id": "f3d27a67-247d-48a3-8a8c-d81c6f12502b",
   "metadata": {},
   "outputs": [],
   "source": [
    "from py.tools import *"
   ]
  },
  {
   "cell_type": "code",
   "execution_count": 3,
   "id": "ceddac30-234e-45ee-9e36-51d0dea64c16",
   "metadata": {},
   "outputs": [
    {
     "name": "stderr",
     "output_type": "stream",
     "text": [
      "2025-03-09 22:52:14,187 - INFO - Logging configuration complete.\n",
      "2025-03-09 22:52:14,188 - WARNING - /home/fuzzy/Documents/GitHub/hw-5.2.0/hw/__init__.py:154: UserWarning: This program is still in development. Beware of bugs!\n",
      "  warn(\"This program is still in development. Beware of bugs!\")\n",
      "\n",
      "2025-03-09 22:52:14,189 - INFO - CONFIG=PosixPath('/home/fuzzy/Documents/GitHub/hw-5.2.0/etc/config.ini')\n",
      "2025-03-09 22:52:14,193 - INFO - INPUT=''\n",
      "2025-03-09 22:52:14,195 - INFO - FOLLOW=False\n",
      "RECURSIVE=False\n",
      "PROCESS_ALL=False\n",
      "2025-03-09 22:52:14,197 - INFO - CWD=PosixPath('/home/fuzzy/Documents/GitHub/hw-5.2.0')\n"
     ]
    },
    {
     "name": "stdout",
     "output_type": "stream",
     "text": [
      "Initializing hw\n"
     ]
    }
   ],
   "source": [
    "from hw import *"
   ]
  },
  {
   "cell_type": "code",
   "execution_count": 4,
   "id": "74054a93-4b63-408a-8c22-0a9b8963ee50",
   "metadata": {
    "editable": true,
    "slideshow": {
     "slide_type": ""
    },
    "tags": []
   },
   "outputs": [],
   "source": [
    "from hw.filter import Filter"
   ]
  },
  {
   "cell_type": "code",
   "execution_count": 5,
   "id": "7141bd6f-d4b5-46d5-bfcf-72ae93965618",
   "metadata": {},
   "outputs": [],
   "source": [
    "ARGS.args = [\"output.txt\"]"
   ]
  },
  {
   "cell_type": "code",
   "execution_count": 6,
   "id": "0fded89d-6657-47d2-a7ce-e41a0eaa2a04",
   "metadata": {},
   "outputs": [
    {
     "name": "stderr",
     "output_type": "stream",
     "text": [
      "2025-03-09 22:52:26,067 - INFO - Initializing Filter class...\n"
     ]
    }
   ],
   "source": [
    "f = Filter()"
   ]
  },
  {
   "cell_type": "code",
   "execution_count": 7,
   "id": "325f4d2f-db17-4ebd-a8ad-5ba4b6aa4710",
   "metadata": {},
   "outputs": [
    {
     "name": "stdout",
     "output_type": "stream",
     "text": [
      "output.txt\n"
     ]
    }
   ],
   "source": [
    "f.process_files()"
   ]
  },
  {
   "cell_type": "code",
   "execution_count": 8,
   "id": "884bd778-cee9-44ac-a7be-bba25a3bb9e8",
   "metadata": {},
   "outputs": [
    {
     "name": "stdout",
     "output_type": "stream",
     "text": [
      "absolute    group            is_reserved  parent       rmdir       with_segments\n",
      "anchor      hardlink_to      is_socket    parents      root        with_stem    \n",
      "as_posix    home             is_symlink   parser       samefile    with_suffix  \n",
      "as_uri      is_absolute      iterdir      parts        stat        write_bytes  \n",
      "chmod       is_block_device  joinpath     read_bytes   stem        write_text   \n",
      "cwd         is_char_device   lchmod       read_text    suffix    \n",
      "drive       is_dir           lstat        readlink     suffixes  \n",
      "exists      is_fifo          match        relative_to  symlink_to\n",
      "expanduser  is_file          mkdir        rename       touch     \n",
      "from_uri    is_junction      name         replace      unlink    \n",
      "full_match  is_mount         open         resolve      walk      \n",
      "glob        is_relative_to   owner        rglob        with_name \n"
     ]
    }
   ],
   "source": [
    "public(Path)"
   ]
  },
  {
   "cell_type": "code",
   "execution_count": 9,
   "id": "22b6c3ba-6419-47c7-b736-78bb54a4a802",
   "metadata": {},
   "outputs": [
    {
     "name": "stdout",
     "output_type": "stream",
     "text": [
      "WarningMessage  deprecated      formatwarning  showwarning   warn         \n",
      "catch_warnings  filters         onceregistry   simplefilter  warn_explicit\n",
      "defaultaction   filterwarnings  resetwarnings  sys         \n"
     ]
    }
   ],
   "source": [
    "public(warnings)"
   ]
  },
  {
   "cell_type": "code",
   "execution_count": 10,
   "id": "e2c063b1-fac8-454f-a8ff-ab1ad1f8bf06",
   "metadata": {},
   "outputs": [
    {
     "data": {
      "text/plain": [
       "['__class__',\n",
       " '__delattr__',\n",
       " '__dir__',\n",
       " '__doc__',\n",
       " '__eq__',\n",
       " '__format__',\n",
       " '__ge__',\n",
       " '__getattribute__',\n",
       " '__getstate__',\n",
       " '__gt__',\n",
       " '__hash__',\n",
       " '__init__',\n",
       " '__init_subclass__',\n",
       " '__le__',\n",
       " '__lt__',\n",
       " '__ne__',\n",
       " '__new__',\n",
       " '__reduce__',\n",
       " '__reduce_ex__',\n",
       " '__repr__',\n",
       " '__setattr__',\n",
       " '__sizeof__',\n",
       " '__str__',\n",
       " '__subclasshook__']"
      ]
     },
     "execution_count": 10,
     "metadata": {},
     "output_type": "execute_result"
    }
   ],
   "source": [
    "dir(object)"
   ]
  },
  {
   "cell_type": "code",
   "execution_count": 11,
   "id": "c0d226c2-58cc-45a5-ad99-3e250e946bd0",
   "metadata": {},
   "outputs": [
    {
     "name": "stdout",
     "output_type": "stream",
     "text": [
      "Help on function mkdir in module pathlib._local:\n",
      "\n",
      "mkdir(self, mode=511, parents=False, exist_ok=False)\n",
      "    Create a new directory at this given path.\n",
      "\n"
     ]
    }
   ],
   "source": [
    "from pathlib import Path\n",
    "help(Path.mkdir)"
   ]
  },
  {
   "cell_type": "code",
   "execution_count": 12,
   "id": "6b5e55a9-60d1-4fff-9525-7d3d102ead90",
   "metadata": {},
   "outputs": [
    {
     "name": "stdout",
     "output_type": "stream",
     "text": [
      "do_help\n"
     ]
    }
   ],
   "source": [
    "from cmd import Cmd\n",
    "Cmd().columnize([s for s in dir(Cmd) if s.startswith('do_')])"
   ]
  },
  {
   "cell_type": "code",
   "execution_count": 13,
   "id": "1dd2c261-65a3-4240-b3d6-4c56c27a44c8",
   "metadata": {},
   "outputs": [
    {
     "name": "stdout",
     "output_type": "stream",
     "text": [
      "cmdloop          default     identchars   parseline     prompt      \n",
      "columnize        do_help     intro        postcmd       ruler       \n",
      "complete         doc_header  lastcmd      postloop      undoc_header\n",
      "complete_help    doc_leader  misc_header  precmd        use_rawinput\n",
      "completedefault  emptyline   nohelp       preloop     \n",
      "completenames    get_names   onecmd       print_topics\n"
     ]
    }
   ],
   "source": [
    "Cmd().columnize([s for s in dir(Cmd) if not s.startswith('_')])"
   ]
  },
  {
   "cell_type": "code",
   "execution_count": null,
   "id": "86538f76-4dbd-49a2-b0cd-acf67d282530",
   "metadata": {},
   "outputs": [],
   "source": []
  }
 ],
 "metadata": {
  "kernelspec": {
   "display_name": "Python 3.13",
   "language": "python",
   "name": "python-3.13"
  },
  "language_info": {
   "codemirror_mode": {
    "name": "ipython",
    "version": 3
   },
   "file_extension": ".py",
   "mimetype": "text/x-python",
   "name": "python",
   "nbconvert_exporter": "python",
   "pygments_lexer": "ipython3",
   "version": "3.13.2"
  },
  "widgets": {
   "application/vnd.jupyter.widget-state+json": {
    "state": {},
    "version_major": 2,
    "version_minor": 0
   }
  }
 },
 "nbformat": 4,
 "nbformat_minor": 5
}
